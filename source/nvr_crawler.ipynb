{
 "metadata": {
  "language_info": {
   "codemirror_mode": {
    "name": "ipython",
    "version": 3
   },
   "file_extension": ".py",
   "mimetype": "text/x-python",
   "name": "python",
   "nbconvert_exporter": "python",
   "pygments_lexer": "ipython3",
   "version": "3.8.5-final"
  },
  "orig_nbformat": 2,
  "kernelspec": {
   "name": "python3",
   "display_name": "Python 3",
   "language": "python"
  }
 },
 "nbformat": 4,
 "nbformat_minor": 2,
 "cells": [
  {
   "cell_type": "code",
   "execution_count": 1,
   "metadata": {},
   "outputs": [],
   "source": [
    "from selenium import webdriver\n",
    "from selenium.webdriver.common.keys import Keys\n",
    "from urllib.request import urlretrieve\n",
    "from tqdm import tqdm\n",
    "import time\n",
    "import os\n",
    "import zipfile"
   ]
  },
  {
   "cell_type": "code",
   "execution_count": 2,
   "metadata": {},
   "outputs": [],
   "source": [
    "if __name__ == '__main__':\n",
    "    keyword=input(\"수집할 키워드를 입력하세요: \")\n",
    "\n",
    "scroll_num = 20 # 스크롤할 횟수 지정\n",
    "images_num = 150 # 수집할 최대 이미지 개수 지정\n",
    "\n",
    "driver = webdriver.Chrome()\n",
    "url = 'https://search.naver.com/search.naver?where=image&sm=tab_jum&query={}'.format(keyword)\n",
    "\n",
    "driver.get(url)\n",
    "\n",
    "if not os.path.isdir('./mush_images/{}'.format(keyword)):\n",
    "    print('{} 폴더 생성'.format(keyword))\n",
    "\n",
    "    os.mkdir('./mush_images/{}'.format(keyword))\n",
    "\n",
    "# 스크롤\n",
    "body=driver.find_element_by_css_selector('body')\n",
    "for i in range(scroll_num):\n",
    "    body.send_keys(Keys.PAGE_DOWN)\n",
    "    time.sleep(0.5) # 스크롤 delay 주기"
   ]
  },
  {
   "cell_type": "code",
   "execution_count": 3,
   "metadata": {
    "tags": []
   },
   "outputs": [
    {
     "output_type": "stream",
     "name": "stdout",
     "text": [
      "Extract links from Xpath.............................."
     ]
    }
   ],
   "source": [
    "img_link = [] #수집한 이미지 url 저장\n",
    "\n",
    "#이미지 태그에 접근\n",
    "#imgTags = driver.find_elements_by_class_name('_img')\n",
    "\n",
    "#Xpath를 통한 링크 수집 \n",
    "print(\"Extract links from Xpath.\", end= '')\n",
    "for i in range(1, images_num + 1):\n",
    "    try :\n",
    "        imgPath = driver.find_element_by_xpath(\"//*[@id=\\\"main_pack\\\"]/section/div/div[1]/div[1]/div[\" + str(i) + \"]/div/div[1]/a/img\")\n",
    "    except :\n",
    "        continue\n",
    "    temp_url = imgPath.get_attribute('src')\n",
    "    if 'http' in temp_url:\n",
    "        img_link.append(temp_url)\n",
    "    if (i % 5) == 0:\n",
    "        print(\".\", end='')\n",
    "\n",
    "#print(img_link)"
   ]
  },
  {
   "cell_type": "code",
   "execution_count": 4,
   "metadata": {},
   "outputs": [
    {
     "output_type": "stream",
     "name": "stdout",
     "text": [
      "Downloading Images..............................Download Complete\n"
     ]
    }
   ],
   "source": [
    "# 이미지 다운로드\n",
    "count = 0\n",
    "print(\"Downloading Images.\", end= '')\n",
    "for url in img_link:\n",
    "    count = count + 1\n",
    "    urlretrieve(url, './mush_images/{}/{}_{}.jpg'.format(keyword, keyword, count))\n",
    "    if (count % 5) == 0:\n",
    "        print(\".\", end='')\n",
    "\n",
    "print(\"Download Complete\")"
   ]
  },
  {
   "cell_type": "code",
   "execution_count": null,
   "metadata": {},
   "outputs": [],
   "source": []
  }
 ]
}