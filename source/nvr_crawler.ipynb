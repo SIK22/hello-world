{
 "metadata": {
  "language_info": {
   "codemirror_mode": {
    "name": "ipython",
    "version": 3
   },
   "file_extension": ".py",
   "mimetype": "text/x-python",
   "name": "python",
   "nbconvert_exporter": "python",
   "pygments_lexer": "ipython3",
   "version": "3.8.5"
  },
  "orig_nbformat": 2,
  "kernelspec": {
   "name": "python3",
   "display_name": "Python 3.8.5 64-bit ('base': conda)",
   "metadata": {
    "interpreter": {
     "hash": "ed9199da1b1d68e4e13e1513de6521aaabf9201e9d81dcd292b4894f43729e76"
    }
   }
  }
 },
 "nbformat": 4,
 "nbformat_minor": 2,
 "cells": [
  {
   "cell_type": "code",
   "execution_count": 1,
   "metadata": {},
   "outputs": [],
   "source": [
    "from selenium import webdriver\n",
    "from selenium.webdriver.common.keys import Keys\n",
    "from urllib.request import urlretrieve\n",
    "from tqdm import tqdm\n",
    "import time\n",
    "import os\n",
    "import zipfile"
   ]
  },
  {
   "cell_type": "code",
   "execution_count": 50,
   "metadata": {},
   "outputs": [],
   "source": [
    "if not os.path.isdir('./mush_images'):\n",
    "    print('폴더 생성')\n",
    "\n",
    "    os.mkdir('./mush_images')\n",
    "    \n",
    "if __name__ == '__main__':\n",
    "    keyword=input(\"수집할 키워드를 입력하세요: \")\n",
    "\n",
    "\n",
    "driver = webdriver.Chrome()\n",
    "url = 'https://search.naver.com/search.naver?where=image&sm=tab_jum&query={}'.format(keyword)\n",
    "\n",
    "driver.get(url)\n",
    "\n",
    "\n",
    "# 스크롤\n",
    "body=driver.find_element_by_css_selector('body')\n",
    "for i in range(5):\n",
    "    body.send_keys(Keys.PAGE_DOWN)\n",
    "    time.sleep(1) #delay 주기"
   ]
  },
  {
   "cell_type": "code",
   "execution_count": 62,
   "metadata": {},
   "outputs": [
    {
     "output_type": "stream",
     "name": "stdout",
     "text": [
      "['https://search.pstatic.net/common/?src=http%3A%2F%2Fblogfiles.naver.net%2FMjAyMTAxMzFfMjgg%2FMDAxNjEyMDk4MzE1MTYx.YkIhNCfe59LUkZpZ7Uu9jrI-M8jGQeXT6xkeZSQnUPog.TUZDugiv3hh3Qt8Tgp32Y0rfKHZlSpxCTjOAjOrB0Lkg.JPEG.leesora43097%2FIMG_0764.jpg&type=a340', 'https://search.pstatic.net/common/?src=http%3A%2F%2Fblogfiles.naver.net%2FMjAyMTAxMTlfMTI0%2FMDAxNjExMDY2NzY3MDI2.yVNFfy2unfIh8tH_ZCxDe3nGVXaRn15_1cpzCBAaAesg.CEieLLSbymvZro4t8ITeimImWNUFRXzDTLEshSk0jkUg.JPEG.xodks572%2FDSCF5339.JPG&type=l340_165', 'https://search.pstatic.net/common/?src=http%3A%2F%2Fblogfiles.naver.net%2FMjAyMDEyMDlfMTM4%2FMDAxNjA3NDkyMjQ1NDIw.fxljTAKtpRYBNR1-DXDHSmnOFVmKHwQxbSVdnWRLSoog.RhYgnUiGYFWGAlp0M3_qArob16RVQMg9cslmMdKy9o4g.JPEG.kh686712%2F20201208%25A3%25DF184512.jpg&type=a340', 'https://search.pstatic.net/common/?src=http%3A%2F%2Fblogfiles.naver.net%2FMjAyMTAxMjlfMTYx%2FMDAxNjExOTE3NTkyNjI1.cFQfmoAp7PWC3njUiNT6z4vN_YgFCmT-glh_XFN4aRcg.7CqsuvkPPvcOtSK2B4XHHjzVJ8p0ew7KlqDv_nefF68g.JPEG.girl-yyy%2FIMG_1099.jpg&type=a340', 'https://search.pstatic.net/common/?src=http%3A%2F%2Fblogfiles.naver.net%2FMjAyMTAxMjhfMzAg%2FMDAxNjExODM4NDA5ODM1.z8IGbg2lSHS6uemA-tbTCcv0ACiBmv0zxdCWcuVXYnIg.B6lVoj9yNyhB88SsHj8kgG11EuRFagE7qw3EUyjXC0gg.PNG.grayofdawn51%2Fimage.png&type=l340_165', 'https://search.pstatic.net/common/?src=http%3A%2F%2Fblogfiles.naver.net%2FMjAyMDEyMDRfMjc0%2FMDAxNjA3MDcxMTA2NTI0.MwymxVyt3J3_-UY3c-0CZZWp7JLlyAxLWurNahMOf08g.Xlz1Rwme_WxbxRdMrTo-8HgmbM5JE7IyrLtyRVfSehAg.JPEG.cbkb21%2F13.jpg&type=a340', 'https://search.pstatic.net/common/?src=http%3A%2F%2Fblogfiles.naver.net%2FMjAyMTAxMjFfMTQ0%2FMDAxNjExMjEyNzI3OTk1.xM2YCmvmz2PfQs581Go_GGU02xOiWm6HIEz_46NTgzwg.lFLI9lvpBDXbRqZ6xKS5B_mDi4bni34icx-kfOvlGR4g.JPEG.scjbong144%2Fnaver_com_20210121_151128.jpg&type=l340_165', 'https://search.pstatic.net/common/?src=http%3A%2F%2Fblogfiles.naver.net%2FMjAyMTAxMDJfMTA0%2FMDAxNjA5NTU0NTAxMDgx.N-PdYhX4atAgpLevzzyGRLxO65Bnd9qBd1mXe5CZ0_og.AKg8S-Ndmvfiu89D5eKGELCt_ovpToqpo_sTVnMYGd4g.JPEG.nyh021%2F20201222%25A3%25DF173904.jpg&type=a340', 'https://search.pstatic.net/common/?src=http%3A%2F%2Fblogfiles.naver.net%2FMjAyMTAxMDRfMjkw%2FMDAxNjA5NzQyOTk5NzY3.oVTHKIHWp5U0kwbb7yfoatODLZC8rYiISKOf47v82pAg.G4-911KqGe-vyXGixQtxp1N0WFOEewQYI-tWSyIWcecg.JPEG.shoutsky0517%2F20210104%25A3%25DF123018.jpg&type=a340', 'https://search.pstatic.net/common/?src=http%3A%2F%2Fblogfiles.naver.net%2FMjAyMTAxMjZfMyAg%2FMDAxNjExNjYzNzAxNzIz.FSzsL_L_aCdGM4PcVYb2zTyF0nmraTUONnLKJFLyvWEg.eYmJvv3am81GSjXmSPSM-BnKj1fFDGvt350BdQi_aukg.JPEG.chj3711%2F20210126_080938.jpg&type=a340', 'https://search.pstatic.net/common/?src=http%3A%2F%2Fblogfiles.naver.net%2FMjAyMDEyMDNfNzAg%2FMDAxNjA2OTgwNzUwNDc0.EUEtmAV8uXrCd24nYXeXkxg-Qm8RxwozR1bu1h5RCRMg.SrTX1rRSkO4YKKCAu2O4BYt0VUIyLCmt9-6cPrNqkDsg.JPEG.nhjw86%2F1606980752868.jpg&type=l340_165', 'https://search.pstatic.net/common/?src=http%3A%2F%2Fblogfiles.naver.net%2FMjAyMDExMDVfMjgg%2FMDAxNjA0NTY3NzcyNDY3.k0AK85WdiMWXjZ2-QqhJTi_4bTRufeJvKIWeuYFKHbkg.aZSOfvEgTciH8wCxfs3trbF8GPB1naVU75FoCz1cjNog.JPEG.panzysh%2F20201029%25A3%25DF185648.jpg&type=a340', 'https://search.pstatic.net/common/?src=http%3A%2F%2Fblogfiles.naver.net%2FMjAyMDA0MjlfMTMg%2FMDAxNTg4MTI0MzgzMjM1.YoQJIZH1rDrXy5jGoW6dv4WzUsUq68A9Xscgt8CdlGgg.TO2ydhK4yxhXoC3zD7IUdA-_4GeQ6zFm_QQWYAzlOPMg.JPEG.sunok5273%2F1588124382756.jpg&type=ofullfill340_600', 'https://search.pstatic.net/common/?src=http%3A%2F%2Fblogfiles.naver.net%2FMjAyMDEyMTBfMjg0%2FMDAxNjA3NTk4MzY3MDEx.lnC4PFkrpw5PuIb0ggJcb0s1i3pNtipbCpeI1FYB0pAg.Lw0HVnjG107rvTCp1HCchkRNMTQ3WCiFkF-J4if4Htcg.JPEG.arco21%2FCYMERA_20201210_195216.jpg&type=a340', 'https://search.pstatic.net/common/?src=http%3A%2F%2Fblogfiles.naver.net%2FMjAyMDA5MzBfMzUg%2FMDAxNjAxMzk0OTg0MTcz.Wpe_XnMttxktmobyjJma8ciTpERoNfHf8Nm6hL8xnbwg.4W3a_A8pt-KKflebkYKMdYor5Tk0779txs3bngPZHcwg.JPEG.h3hmym%2Fbatch_DSC03602.JPG&type=a340', 'https://search.pstatic.net/common/?src=http%3A%2F%2Fblogfiles.naver.net%2FMjAyMDEyMzFfMTcz%2FMDAxNjA5Mzc2NDM4NTc2.pNy-slTr2sNEuSHIgSFWFz8ejH2qANpwsjPlzMuv5bgg.nSRjB6xR8qdpS4zxm0bnHErXlTW7N3G4uR6CdnZddbMg.JPEG.kksadfc12%2FKakaoTalk_20201231_095744367_01.jpg&type=a340', 'https://search.pstatic.net/common/?src=http%3A%2F%2Fblogfiles.naver.net%2FMjAxODA1MThfNTkg%2FMDAxNTI2NjA2NzAyMjE0.a_nfbmQfbBa6092MTYW8-Yh8GaqYA8PN45c_hhtb7F0g.w4AvKyt76NWkpMKslwA7ovTjuHJPFS3Lb3VnOs4KFwMg.JPEG.ggomeng9%2Fawegg.JPG&type=a340', 'https://search.pstatic.net/common/?src=http%3A%2F%2Fblogfiles.naver.net%2FMjAyMDA4MjVfMjU1%2FMDAxNTk4MzMzNzExMjUw.lCnsEPBcvsD_jImECYQmxPDDEKDDgrPYTemqxaR8NZgg.fJtvIIoEtbpgHPzff4DIyK_urBwynvmpUEflQqPafVYg.JPEG.kingmt2001%2FIMG_8355.JPG&type=a340']\n"
     ]
    }
   ],
   "source": [
    "img_link = [] #수집한 이미지 url 저장\n",
    "\n",
    "#이미지 태그에 접근\n",
    "#imgTags = driver.find_elements_by_class_name('_img')\n",
    "\n",
    "#Xpath를 통한 링크 수집 \n",
    "for i in range(1, 20):\n",
    "    try :\n",
    "        imgPath = driver.find_element_by_xpath(\"//*[@id=\\\"main_pack\\\"]/section/div/div[1]/div[1]/div[\" + str(i) + \"]/div/div[1]/a/img\")\n",
    "    except :\n",
    "        continue\n",
    "    temp_url = imgPath.get_attribute('src')\n",
    "    if 'http' in temp_url:\n",
    "        img_link.append(temp_url)\n",
    "\n",
    "print(img_link)"
   ]
  },
  {
   "cell_type": "code",
   "execution_count": 63,
   "metadata": {},
   "outputs": [],
   "source": [
    "# 이미지 다운로드\n",
    "count = 0\n",
    "for url in img_link:\n",
    "    count = count + 1\n",
    "    urlretrieve(url, './mush_images/{}_{}.jpg'.format(keyword, count))"
   ]
  },
  {
   "cell_type": "code",
   "execution_count": null,
   "metadata": {},
   "outputs": [],
   "source": []
  }
 ]
}