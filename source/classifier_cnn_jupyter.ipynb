{
  "nbformat": 4,
  "nbformat_minor": 0,
  "metadata": {
    "language_info": {
      "codemirror_mode": {
        "name": "ipython",
        "version": 3
      },
      "file_extension": ".py",
      "mimetype": "text/x-python",
      "name": "python",
      "nbconvert_exporter": "python",
      "pygments_lexer": "ipython3",
      "version": "3.8.5-final"
    },
    "orig_nbformat": 2,
    "kernelspec": {
      "name": "python3",
      "display_name": "Python 3.8.5 64-bit (conda)",
      "metadata": {
        "interpreter": {
          "hash": "9ee9e4eb0a3f424a2662ba59d0f84e80370c017875f508df1a4bd484d36c58b3"
        }
      }
    },
    "colab": {
      "name": "classifier_cnn_jupyter.ipynb",
      "provenance": []
    },
    "accelerator": "GPU"
  },
  "cells": [
    {
      "cell_type": "markdown",
      "metadata": {
        "id": "BJprYf70OK1F"
      },
      "source": [
        "# 주의사항\r\n",
        "1. Colab 에서 작성\r\n",
        "1. 데이터셋 경로는 /content/drive/MyDrive/KISTI/new_mush/ 를 기준으로 작성\r\n",
        "1. data_gen 함수는 실행시마다 augmetation 데이터를 생성하므로 주의"
      ]
    },
    {
      "cell_type": "code",
      "metadata": {
        "colab": {
          "base_uri": "https://localhost:8080/"
        },
        "id": "QhTGfR-b0yJd",
        "outputId": "f331f3db-c11d-4b7b-a371-19c5c95c52e9"
      },
      "source": [
        "from google.colab import drive\r\n",
        "drive.mount('/content/drive')"
      ],
      "execution_count": 1,
      "outputs": [
        {
          "output_type": "stream",
          "text": [
            "Mounted at /content/drive\n"
          ],
          "name": "stdout"
        }
      ]
    },
    {
      "cell_type": "code",
      "metadata": {
        "id": "Y5R4HgXBjNn7"
      },
      "source": [
        "#CPU - GPU 정보\r\n",
        "#!cat /proc/cpuinfo\r\n",
        "#!nvidia-smi"
      ],
      "execution_count": null,
      "outputs": []
    },
    {
      "cell_type": "code",
      "metadata": {
        "id": "ukxqU1n2hO4d"
      },
      "source": [
        "#preprocess.\n",
        "from keras.preprocessing.image import ImageDataGenerator, array_to_img, img_to_array, load_img\n",
        "\n",
        "# libraraies\n",
        "from keras import backend as K\n",
        "from keras.models import Sequential\n",
        "from keras.layers import Dense\n",
        "from keras.optimizers import Adam,SGD,Adagrad,Adadelta,RMSprop\n",
        "from keras.utils import to_categorical\n",
        "\n",
        "# specifically for cnn\n",
        "from keras.layers import Dropout, Flatten,Activation\n",
        "from keras.layers import Conv2D, MaxPooling2D, BatchNormalization\n",
        " \n",
        "import tensorflow as tf\n",
        "import os\n",
        "from os import listdir\n",
        "from os.path import isfile, join\n",
        "\n",
        "import cv2\n",
        "import numpy as np\n",
        "from tqdm import tqdm\n",
        "import matplotlib.pyplot as plt\n",
        "from matplotlib import style\n",
        "from PIL import Image\n",
        "import random as rn\n",
        "from matplotlib import font_manager, rc\n",
        "\n",
        "\n",
        "from sklearn.model_selection import train_test_split\n",
        "from sklearn.model_selection import KFold\n",
        "from sklearn.metrics import accuracy_score,precision_score,recall_score,confusion_matrix,roc_curve,roc_auc_score\n",
        "from sklearn.model_selection import GridSearchCV\n",
        "from sklearn.preprocessing import LabelEncoder\n",
        "\n",
        "%matplotlib inline  "
      ],
      "execution_count": 2,
      "outputs": []
    },
    {
      "cell_type": "code",
      "metadata": {
        "id": "g73oD-UzAmqP"
      },
      "source": [
        "# Data augmentation\r\n",
        "# 실행시 마다 이미지가 생성 되므로 필요한만큼만 실행\r\n",
        "# 실행 후에는 Colab에 생성된 이미지가 반영될 때까지 시간 필요 + 코랩 폴더 새로고침할 것\r\n",
        "def data_gen(mush_type):\r\n",
        "  data_datagen = ImageDataGenerator(rescale=1./255,\r\n",
        "                                   rotation_range=30, \r\n",
        "                                   # shear_range=5.5,  \r\n",
        "                                   # width_shift_range=0.1,\r\n",
        "                                   # height_shift_range=0.1,\r\n",
        "                                   brightness_range = [0.2,1],\r\n",
        "                                   zoom_range=0.2,\r\n",
        "                                   horizontal_flip=True,\r\n",
        "                                   vertical_flip=True,\r\n",
        "                                   #fill_mode='nearest'\r\n",
        "                                   ) \r\n",
        " \r\n",
        " \r\n",
        "  filename_in_dir = [] \r\n",
        " \r\n",
        "  for root, dirs, files in os.walk('/content/drive/MyDrive/KISTI/new_mush/{}'.format(mush_type)):\r\n",
        "    for  fname in files:\r\n",
        "        full_fname = os.path.join(root, fname)\r\n",
        "        filename_in_dir.append(full_fname)\r\n",
        " \r\n",
        "  for file_image in filename_in_dir:\r\n",
        "    #print file_image\r\n",
        "    img = load_img(file_image) \r\n",
        "    x = img_to_array(img)\r\n",
        "    x = x.reshape((1,) + x.shape)\r\n",
        " \r\n",
        "    i = 0\r\n",
        " \r\n",
        "    for batch in data_datagen.flow(x,save_to_dir='/content/drive/MyDrive/KISTI/new_mush/{}'.format(mush_type), save_prefix='augmented', save_format='jpg'):\r\n",
        "        i += 1\r\n",
        "        if i > 3: # 이미지당 3장씩 augmentation\r\n",
        "            break\r\n",
        "\r\n",
        "for mush_type in mush_types:\r\n",
        "  data_gen(mush_type)"
      ],
      "execution_count": 13,
      "outputs": []
    },
    {
      "cell_type": "code",
      "metadata": {
        "colab": {
          "base_uri": "https://localhost:8080/"
        },
        "id": "QkrsM1sphO4o",
        "outputId": "35405497-6a5f-43c0-c5c8-8e6bff142edf"
      },
      "source": [
        "#class_names = os.listdir('./mush_images/')\n",
        "#class_names_label = {class_name:i for i, class_name in enumerate(class_names)}\n",
        "#print(class_names_label)\n",
        "print(os.listdir('/content/drive/MyDrive/KISTI/new_mush/'))"
      ],
      "execution_count": 5,
      "outputs": [
        {
          "output_type": "stream",
          "text": [
            "['개암버섯', '갈황색미치광이버섯', '뽕나무버섯', '곰보버섯', '달걀버섯', '개나리광대버섯', '노란꼭지버섯', '노란난버섯', '노란다발버섯', '붉은싸리버섯', '노란싸리버섯', '싸리버섯', '노루궁뎅이버섯', '혈색무당버섯', '표고버섯']\n"
          ],
          "name": "stdout"
        }
      ]
    },
    {
      "cell_type": "code",
      "metadata": {
        "id": "vxpFxbhuhO4o"
      },
      "source": [
        "X = []\n",
        "Z = []\n",
        "IMG_SIZE = 150"
      ],
      "execution_count": 3,
      "outputs": []
    },
    {
      "cell_type": "code",
      "metadata": {
        "id": "TfmcdFY4hO4p"
      },
      "source": [
        "def assign_label(img,flower_type):\n",
        "    return flower_type\n",
        "\n",
        "def make_train_data(mushroom_type, DIR):\n",
        "    for img in tqdm(os.listdir(DIR)):\n",
        "        label = mushroom_type # ? assign_label(img,flower_type) ??\n",
        "        path = os.path.join(DIR, img) # DIR + '/' + img \n",
        "        #print(path)\n",
        "        ff = np.fromfile(path, np.uint8)\n",
        "        img = cv2.imdecode(ff, cv2.IMREAD_COLOR)\n",
        "        #img = cv2.imread(path, cv2.IMREAD_COLOR) # 한글 경로 문제로 사용 불가, 위 두줄로 대체\n",
        "        img = cv2.resize(img, (IMG_SIZE, IMG_SIZE))\n",
        "        \n",
        "        X.append(np.array(img))\n",
        "        Z.append(str(label))"
      ],
      "execution_count": 18,
      "outputs": []
    },
    {
      "cell_type": "code",
      "metadata": {
        "tags": [],
        "colab": {
          "base_uri": "https://localhost:8080/"
        },
        "id": "adGK1Gk8hO4p",
        "outputId": "8f521e8c-d6dc-4660-e092-b9b1d57b4ecf"
      },
      "source": [
        "mush_types = os.listdir('/content/drive/MyDrive/KISTI/new_mush/')\n",
        "\n",
        "for mush_type in mush_types:\n",
        "    print(\"\\nLoading data : {}\".format(mush_type))\n",
        "    mush_dir = '/content/drive/MyDrive/KISTI/new_mush/' + mush_type\n",
        "    #print(mush_dir)\n",
        "    make_train_data(mush_type, mush_dir)\n",
        "\n",
        "print(len(X))"
      ],
      "execution_count": 6,
      "outputs": [
        {
          "output_type": "stream",
          "text": [
            "\r  0%|          | 0/905 [00:00<?, ?it/s]"
          ],
          "name": "stderr"
        },
        {
          "output_type": "stream",
          "text": [
            "Loading data : 개암버섯\n"
          ],
          "name": "stdout"
        },
        {
          "output_type": "stream",
          "text": [
            "100%|██████████| 905/905 [07:27<00:00,  2.02it/s]\n",
            "  0%|          | 0/885 [00:00<?, ?it/s]"
          ],
          "name": "stderr"
        },
        {
          "output_type": "stream",
          "text": [
            "Loading data : 갈황색미치광이버섯\n"
          ],
          "name": "stdout"
        },
        {
          "output_type": "stream",
          "text": [
            "100%|██████████| 885/885 [07:14<00:00,  2.04it/s]\n",
            "  0%|          | 0/742 [00:00<?, ?it/s]"
          ],
          "name": "stderr"
        },
        {
          "output_type": "stream",
          "text": [
            "Loading data : 개나리광대버섯\n"
          ],
          "name": "stdout"
        },
        {
          "output_type": "stream",
          "text": [
            "100%|██████████| 742/742 [05:55<00:00,  2.09it/s]"
          ],
          "name": "stderr"
        },
        {
          "output_type": "stream",
          "text": [
            "2532\n"
          ],
          "name": "stdout"
        },
        {
          "output_type": "stream",
          "text": [
            "\n"
          ],
          "name": "stderr"
        }
      ]
    },
    {
      "cell_type": "code",
      "metadata": {
        "tags": [],
        "id": "ywGr7hAlhO4p"
      },
      "source": [
        "#font_name = font_manager.FontProperties(fname=\"c:/Windows/Fonts/malgun.ttf\").get_name()\n",
        "#rc('font', family=font_name)\n",
        "\n",
        "sub_X = 5\n",
        "sub_Y = 5\n",
        "fig,ax=plt.subplots(sub_Y,sub_X)\n",
        "fig.set_size_inches(15,15)\n",
        "for i in range(sub_Y):\n",
        "    for j in range (sub_X):\n",
        "        l=rn.randint(0,len(Z))\n",
        "        b, g, r = cv2.split(X[i])   # img파일을 b,g,r로 분리 + 위치 바꿈\n",
        "        img2 = cv2.merge([r,g,b]) \n",
        "        ax[i,j].imshow(img2)\n",
        "        ax[i,j].set_title('Mushroom: '+ Z[l])\n",
        "        \n",
        "plt.tight_layout()"
      ],
      "execution_count": null,
      "outputs": []
    },
    {
      "cell_type": "code",
      "metadata": {
        "colab": {
          "base_uri": "https://localhost:8080/"
        },
        "id": "Sqffo1a_hO4q",
        "outputId": "7b3c99ca-c810-4e44-caf6-05fb2cd1a8b4"
      },
      "source": [
        "le = LabelEncoder()\n",
        "Y = le.fit_transform(Z)\n",
        "Y = to_categorical(Y,len(mush_types)) # One-hot Encoding\n",
        "print(Y)"
      ],
      "execution_count": 7,
      "outputs": [
        {
          "output_type": "stream",
          "text": [
            "[[0. 0. 1.]\n",
            " [0. 0. 1.]\n",
            " [0. 0. 1.]\n",
            " ...\n",
            " [0. 1. 0.]\n",
            " [0. 1. 0.]\n",
            " [0. 1. 0.]]\n"
          ],
          "name": "stdout"
        }
      ]
    },
    {
      "cell_type": "code",
      "metadata": {
        "id": "KyUEoaQxhO4q"
      },
      "source": [
        "X = np.array(X)\n",
        "X = X/255\n",
        "#print(X)"
      ],
      "execution_count": 8,
      "outputs": []
    },
    {
      "cell_type": "code",
      "metadata": {
        "id": "QHaSzouchO4r"
      },
      "source": [
        "x_train,x_test,y_train,y_test=train_test_split(X,Y,test_size=0.25,random_state=42)"
      ],
      "execution_count": 9,
      "outputs": []
    },
    {
      "cell_type": "code",
      "metadata": {
        "id": "D1RjVVoIhO4r"
      },
      "source": [
        "np.random.seed(42)\n",
        "rn.seed(42)\n",
        "tf.random.set_seed(42)"
      ],
      "execution_count": 10,
      "outputs": []
    },
    {
      "cell_type": "code",
      "metadata": {
        "id": "MncVOFpNhO4r"
      },
      "source": [
        "'''\n",
        "model = Sequential()\n",
        "model.add(Conv2D(filters = 32, kernel_size = (5,5),padding = 'Same',activation ='relu', input_shape = (IMG_SIZE,IMG_SIZE,3)))\n",
        "model.add(MaxPooling2D(pool_size=(2,2)))\n",
        "\n",
        "\n",
        "model.add(Conv2D(filters = 64, kernel_size = (3,3),padding = 'Same',activation ='relu'))\n",
        "model.add(MaxPooling2D(pool_size=(2,2), strides=(2,2)))\n",
        " \n",
        "\n",
        "model.add(Conv2D(filters =96, kernel_size = (3,3),padding = 'Same',activation ='relu'))\n",
        "model.add(MaxPooling2D(pool_size=(2,2), strides=(2,2)))\n",
        "\n",
        "model.add(Conv2D(filters = 96, kernel_size = (3,3),padding = 'Same',activation ='relu'))\n",
        "model.add(MaxPooling2D(pool_size=(2,2), strides=(2,2)))\n",
        "\n",
        "model.add(Flatten())\n",
        "model.add(Dense(512))\n",
        "model.add(Activation('relu'))\n",
        "model.add(Dense(len(mush_types), activation = \"softmax\"))\n",
        "'''"
      ],
      "execution_count": null,
      "outputs": []
    },
    {
      "cell_type": "code",
      "metadata": {
        "id": "K6Ap1YT7DHq-"
      },
      "source": [
        "model = Sequential()\r\n",
        "model.add(Conv2D(filters = 32, kernel_size = (5,5),padding = 'Same',activation ='relu', input_shape = (IMG_SIZE,IMG_SIZE,3)))\r\n",
        "model.add(Conv2D(filters = 32, kernel_size = (5,5),padding = 'Same',activation ='relu'))\r\n",
        "model.add(MaxPooling2D(pool_size=(2,2)))\r\n",
        "model.add(Dropout(0.25))\r\n",
        "\r\n",
        "model.add(Conv2D(filters = 64, kernel_size = (3,3),padding = 'Same',activation ='relu'))\r\n",
        "model.add(Conv2D(filters = 64, kernel_size = (3,3),padding = 'Same',activation ='relu'))\r\n",
        "model.add(MaxPooling2D(pool_size=(2,2), strides=(2,2)))\r\n",
        "model.add(Dropout(0.25))\r\n",
        "\r\n",
        "model.add(Flatten())\r\n",
        "model.add(Dense(256, activation= 'relu'))\r\n",
        "model.add(Dropout(0.5))\r\n",
        "model.add(Dense(len(mush_types), activation = \"softmax\"))\r\n"
      ],
      "execution_count": 11,
      "outputs": []
    },
    {
      "cell_type": "code",
      "metadata": {
        "id": "vHdwbhS0hO4s"
      },
      "source": [
        "batch_size=128\n",
        "epochs=100\n",
        "\n",
        "from keras.callbacks import ReduceLROnPlateau\n",
        "red_lr= ReduceLROnPlateau(monitor='val_acc',patience=3,verbose=1,factor=0.1)\n",
        "\n",
        "learning_rate_reduction = ReduceLROnPlateau(monitor='val_acc', \n",
        "                                            patience=3, \n",
        "                                            verbose=1, \n",
        "                                            factor=0.5, \n",
        "                                            min_lr=0.00001)"
      ],
      "execution_count": 12,
      "outputs": []
    },
    {
      "cell_type": "code",
      "metadata": {
        "id": "Bgvkj4T9hO4s"
      },
      "source": [
        "'''\n",
        "datagen = ImageDataGenerator(\n",
        "        featurewise_center=False,  # set input mean to 0 over the dataset\n",
        "        samplewise_center=False,  # set each sample mean to 0\n",
        "        featurewise_std_normalization=False,  # divide inputs by std of the dataset\n",
        "        samplewise_std_normalization=False,  # divide each input by its std\n",
        "        zca_whitening=False,  # apply ZCA whitening\n",
        "        rotation_range=10,  # randomly rotate images in the range (degrees, 0 to 180)\n",
        "        zoom_range = 0.1, # Randomly zoom image \n",
        "        width_shift_range=0.2,  # randomly shift images horizontally (fraction of total width)\n",
        "        height_shift_range=0.2,  # randomly shift images vertically (fraction of total height)\n",
        "        horizontal_flip=True,  # randomly flip images\n",
        "        vertical_flip=False)  # randomly flip images\n",
        "\n",
        "\n",
        "datagen.fit(x_train)\n",
        "'''"
      ],
      "execution_count": 22,
      "outputs": []
    },
    {
      "cell_type": "code",
      "metadata": {
        "id": "sgBdkCCIhO4s"
      },
      "source": [
        "#optimizer = Adam(lr=0.001)\n",
        "optimizer = RMSprop(lr=0.001, rho=0.9, epsilon=1e-08, decay=0.0)\n",
        "\n",
        "model.compile(optimizer = optimizer,loss='categorical_crossentropy',metrics=['accuracy'])"
      ],
      "execution_count": 13,
      "outputs": []
    },
    {
      "cell_type": "code",
      "metadata": {
        "colab": {
          "base_uri": "https://localhost:8080/"
        },
        "id": "uMn90ji4hO4t",
        "outputId": "d71d5098-60e0-4e5c-894e-8f84b09fae1b"
      },
      "source": [
        "model.summary()\n"
      ],
      "execution_count": 14,
      "outputs": [
        {
          "output_type": "stream",
          "text": [
            "Model: \"sequential\"\n",
            "_________________________________________________________________\n",
            "Layer (type)                 Output Shape              Param #   \n",
            "=================================================================\n",
            "conv2d (Conv2D)              (None, 150, 150, 32)      2432      \n",
            "_________________________________________________________________\n",
            "conv2d_1 (Conv2D)            (None, 150, 150, 32)      25632     \n",
            "_________________________________________________________________\n",
            "max_pooling2d (MaxPooling2D) (None, 75, 75, 32)        0         \n",
            "_________________________________________________________________\n",
            "dropout (Dropout)            (None, 75, 75, 32)        0         \n",
            "_________________________________________________________________\n",
            "conv2d_2 (Conv2D)            (None, 75, 75, 64)        18496     \n",
            "_________________________________________________________________\n",
            "conv2d_3 (Conv2D)            (None, 75, 75, 64)        36928     \n",
            "_________________________________________________________________\n",
            "max_pooling2d_1 (MaxPooling2 (None, 37, 37, 64)        0         \n",
            "_________________________________________________________________\n",
            "dropout_1 (Dropout)          (None, 37, 37, 64)        0         \n",
            "_________________________________________________________________\n",
            "flatten (Flatten)            (None, 87616)             0         \n",
            "_________________________________________________________________\n",
            "dense (Dense)                (None, 256)               22429952  \n",
            "_________________________________________________________________\n",
            "dropout_2 (Dropout)          (None, 256)               0         \n",
            "_________________________________________________________________\n",
            "dense_1 (Dense)              (None, 3)                 771       \n",
            "=================================================================\n",
            "Total params: 22,514,211\n",
            "Trainable params: 22,514,211\n",
            "Non-trainable params: 0\n",
            "_________________________________________________________________\n"
          ],
          "name": "stdout"
        }
      ]
    },
    {
      "cell_type": "code",
      "metadata": {
        "colab": {
          "base_uri": "https://localhost:8080/"
        },
        "id": "DxuMXZqKhO4t",
        "outputId": "0794fe62-994a-4a2e-b07d-67901817d19f"
      },
      "source": [
        "'''\n",
        "History = model.fit_generator(datagen.flow(x_train,y_train, batch_size=batch_size),\n",
        "                              epochs = epochs, validation_data = (x_test,y_test),\n",
        "                              verbose = 1, steps_per_epoch=x_train.shape[0] // batch_size,\n",
        "                              callbacks = [learning_rate_reduction])\n",
        "'''\n",
        "History = model.fit(x = x_train, y = y_train,\n",
        "                    epochs = epochs,\n",
        "                    validation_data = (x_test,y_test))"
      ],
      "execution_count": 15,
      "outputs": [
        {
          "output_type": "stream",
          "text": [
            "Epoch 1/100\n",
            "60/60 [==============================] - 14s 93ms/step - loss: 3.4502 - accuracy: 0.3623 - val_loss: 1.0707 - val_accuracy: 0.3791\n",
            "Epoch 2/100\n",
            "60/60 [==============================] - 5s 77ms/step - loss: 1.1081 - accuracy: 0.3813 - val_loss: 1.0990 - val_accuracy: 0.3065\n",
            "Epoch 3/100\n",
            "60/60 [==============================] - 5s 78ms/step - loss: 1.0970 - accuracy: 0.3977 - val_loss: 1.0504 - val_accuracy: 0.4471\n",
            "Epoch 4/100\n",
            "60/60 [==============================] - 5s 78ms/step - loss: 1.0457 - accuracy: 0.4608 - val_loss: 0.9796 - val_accuracy: 0.5134\n",
            "Epoch 5/100\n",
            "60/60 [==============================] - 5s 79ms/step - loss: 0.9197 - accuracy: 0.5618 - val_loss: 0.8961 - val_accuracy: 0.5608\n",
            "Epoch 6/100\n",
            "60/60 [==============================] - 5s 79ms/step - loss: 0.8191 - accuracy: 0.6263 - val_loss: 0.9847 - val_accuracy: 0.6082\n",
            "Epoch 7/100\n",
            "60/60 [==============================] - 5s 79ms/step - loss: 0.7566 - accuracy: 0.6876 - val_loss: 1.3475 - val_accuracy: 0.5134\n",
            "Epoch 8/100\n",
            "60/60 [==============================] - 5s 80ms/step - loss: 0.6742 - accuracy: 0.7253 - val_loss: 1.2140 - val_accuracy: 0.5419\n",
            "Epoch 9/100\n",
            "60/60 [==============================] - 5s 81ms/step - loss: 0.5737 - accuracy: 0.7862 - val_loss: 0.8341 - val_accuracy: 0.6256\n",
            "Epoch 10/100\n",
            "60/60 [==============================] - 5s 80ms/step - loss: 0.4578 - accuracy: 0.8139 - val_loss: 0.9849 - val_accuracy: 0.6603\n",
            "Epoch 11/100\n",
            "60/60 [==============================] - 5s 81ms/step - loss: 0.2890 - accuracy: 0.8810 - val_loss: 0.9942 - val_accuracy: 0.6904\n",
            "Epoch 12/100\n",
            "60/60 [==============================] - 5s 82ms/step - loss: 0.3469 - accuracy: 0.8740 - val_loss: 1.2998 - val_accuracy: 0.6303\n",
            "Epoch 13/100\n",
            "60/60 [==============================] - 5s 81ms/step - loss: 0.2590 - accuracy: 0.9148 - val_loss: 1.3308 - val_accuracy: 0.6256\n",
            "Epoch 14/100\n",
            "60/60 [==============================] - 5s 81ms/step - loss: 0.2298 - accuracy: 0.9296 - val_loss: 1.1061 - val_accuracy: 0.6983\n",
            "Epoch 15/100\n",
            "60/60 [==============================] - 5s 81ms/step - loss: 0.1259 - accuracy: 0.9488 - val_loss: 1.3135 - val_accuracy: 0.7030\n",
            "Epoch 16/100\n",
            "60/60 [==============================] - 5s 82ms/step - loss: 0.1103 - accuracy: 0.9651 - val_loss: 1.7794 - val_accuracy: 0.6493\n",
            "Epoch 17/100\n",
            "60/60 [==============================] - 5s 81ms/step - loss: 0.1031 - accuracy: 0.9680 - val_loss: 1.8621 - val_accuracy: 0.6714\n",
            "Epoch 18/100\n",
            "60/60 [==============================] - 5s 81ms/step - loss: 0.1249 - accuracy: 0.9655 - val_loss: 1.6013 - val_accuracy: 0.6998\n",
            "Epoch 19/100\n",
            "60/60 [==============================] - 5s 81ms/step - loss: 0.0836 - accuracy: 0.9766 - val_loss: 5.0126 - val_accuracy: 0.5735\n",
            "Epoch 20/100\n",
            "60/60 [==============================] - 5s 80ms/step - loss: 0.2957 - accuracy: 0.9484 - val_loss: 1.6455 - val_accuracy: 0.6825\n",
            "Epoch 21/100\n",
            "60/60 [==============================] - 5s 80ms/step - loss: 0.0929 - accuracy: 0.9771 - val_loss: 2.0351 - val_accuracy: 0.6619\n",
            "Epoch 22/100\n",
            "60/60 [==============================] - 5s 80ms/step - loss: 0.0499 - accuracy: 0.9896 - val_loss: 1.8083 - val_accuracy: 0.6051\n",
            "Epoch 23/100\n",
            "60/60 [==============================] - 5s 81ms/step - loss: 0.0987 - accuracy: 0.9742 - val_loss: 3.3599 - val_accuracy: 0.6398\n",
            "Epoch 24/100\n",
            "60/60 [==============================] - 5s 80ms/step - loss: 0.0621 - accuracy: 0.9844 - val_loss: 2.4179 - val_accuracy: 0.7109\n",
            "Epoch 25/100\n",
            "60/60 [==============================] - 5s 80ms/step - loss: 0.0826 - accuracy: 0.9790 - val_loss: 3.7838 - val_accuracy: 0.6667\n",
            "Epoch 26/100\n",
            "60/60 [==============================] - 5s 81ms/step - loss: 0.1226 - accuracy: 0.9836 - val_loss: 3.0850 - val_accuracy: 0.6572\n",
            "Epoch 27/100\n",
            "60/60 [==============================] - 5s 80ms/step - loss: 0.0661 - accuracy: 0.9857 - val_loss: 3.7155 - val_accuracy: 0.6367\n",
            "Epoch 28/100\n",
            "60/60 [==============================] - 5s 80ms/step - loss: 0.0486 - accuracy: 0.9883 - val_loss: 2.7707 - val_accuracy: 0.6730\n",
            "Epoch 29/100\n",
            "60/60 [==============================] - 5s 81ms/step - loss: 0.0387 - accuracy: 0.9923 - val_loss: 5.4731 - val_accuracy: 0.5861\n",
            "Epoch 30/100\n",
            "60/60 [==============================] - 5s 81ms/step - loss: 0.2175 - accuracy: 0.9555 - val_loss: 3.8570 - val_accuracy: 0.6224\n",
            "Epoch 31/100\n",
            "60/60 [==============================] - 5s 81ms/step - loss: 0.0904 - accuracy: 0.9859 - val_loss: 3.0992 - val_accuracy: 0.6603\n",
            "Epoch 32/100\n",
            "60/60 [==============================] - 5s 81ms/step - loss: 0.0824 - accuracy: 0.9815 - val_loss: 5.2360 - val_accuracy: 0.6414\n",
            "Epoch 33/100\n",
            "60/60 [==============================] - 5s 81ms/step - loss: 0.0402 - accuracy: 0.9892 - val_loss: 3.5919 - val_accuracy: 0.6730\n",
            "Epoch 34/100\n",
            "60/60 [==============================] - 5s 81ms/step - loss: 0.0963 - accuracy: 0.9844 - val_loss: 4.6594 - val_accuracy: 0.6082\n",
            "Epoch 35/100\n",
            "60/60 [==============================] - 5s 81ms/step - loss: 0.1094 - accuracy: 0.9745 - val_loss: 4.8427 - val_accuracy: 0.6177\n",
            "Epoch 36/100\n",
            "60/60 [==============================] - 5s 81ms/step - loss: 0.1236 - accuracy: 0.9753 - val_loss: 5.2723 - val_accuracy: 0.6477\n",
            "Epoch 37/100\n",
            "60/60 [==============================] - 5s 81ms/step - loss: 0.1256 - accuracy: 0.9834 - val_loss: 3.9970 - val_accuracy: 0.6477\n",
            "Epoch 38/100\n",
            "60/60 [==============================] - 5s 80ms/step - loss: 0.0872 - accuracy: 0.9832 - val_loss: 8.6505 - val_accuracy: 0.6698\n",
            "Epoch 39/100\n",
            "60/60 [==============================] - 5s 81ms/step - loss: 0.0655 - accuracy: 0.9840 - val_loss: 6.8375 - val_accuracy: 0.6572\n",
            "Epoch 40/100\n",
            "60/60 [==============================] - 5s 80ms/step - loss: 0.0411 - accuracy: 0.9904 - val_loss: 6.2143 - val_accuracy: 0.6793\n",
            "Epoch 41/100\n",
            "60/60 [==============================] - 5s 80ms/step - loss: 0.0583 - accuracy: 0.9898 - val_loss: 5.1032 - val_accuracy: 0.6540\n",
            "Epoch 42/100\n",
            "60/60 [==============================] - 5s 80ms/step - loss: 0.0572 - accuracy: 0.9866 - val_loss: 7.3443 - val_accuracy: 0.6209\n",
            "Epoch 43/100\n",
            "60/60 [==============================] - 5s 80ms/step - loss: 0.0766 - accuracy: 0.9847 - val_loss: 5.3968 - val_accuracy: 0.6635\n",
            "Epoch 44/100\n",
            "60/60 [==============================] - 5s 80ms/step - loss: 0.0914 - accuracy: 0.9879 - val_loss: 4.9791 - val_accuracy: 0.6509\n",
            "Epoch 45/100\n",
            "60/60 [==============================] - 5s 80ms/step - loss: 0.0818 - accuracy: 0.9845 - val_loss: 2.1441 - val_accuracy: 0.6556\n",
            "Epoch 46/100\n",
            "60/60 [==============================] - 5s 80ms/step - loss: 0.1129 - accuracy: 0.9749 - val_loss: 5.7155 - val_accuracy: 0.6351\n",
            "Epoch 47/100\n",
            "60/60 [==============================] - 5s 80ms/step - loss: 0.0580 - accuracy: 0.9859 - val_loss: 7.0720 - val_accuracy: 0.6367\n",
            "Epoch 48/100\n",
            "60/60 [==============================] - 5s 81ms/step - loss: 0.0560 - accuracy: 0.9927 - val_loss: 5.8145 - val_accuracy: 0.6098\n",
            "Epoch 49/100\n",
            "60/60 [==============================] - 5s 81ms/step - loss: 0.0701 - accuracy: 0.9881 - val_loss: 7.2402 - val_accuracy: 0.6114\n",
            "Epoch 50/100\n",
            "60/60 [==============================] - 5s 81ms/step - loss: 0.0471 - accuracy: 0.9872 - val_loss: 7.5005 - val_accuracy: 0.6461\n",
            "Epoch 51/100\n",
            "60/60 [==============================] - 5s 81ms/step - loss: 0.0732 - accuracy: 0.9883 - val_loss: 8.2391 - val_accuracy: 0.6367\n",
            "Epoch 52/100\n",
            "60/60 [==============================] - 5s 80ms/step - loss: 0.0655 - accuracy: 0.9916 - val_loss: 4.2851 - val_accuracy: 0.6572\n",
            "Epoch 53/100\n",
            "60/60 [==============================] - 5s 80ms/step - loss: 0.0640 - accuracy: 0.9824 - val_loss: 8.3899 - val_accuracy: 0.6193\n",
            "Epoch 54/100\n",
            "60/60 [==============================] - 5s 80ms/step - loss: 0.0469 - accuracy: 0.9886 - val_loss: 4.5448 - val_accuracy: 0.6524\n",
            "Epoch 55/100\n",
            "60/60 [==============================] - 5s 81ms/step - loss: 0.1555 - accuracy: 0.9787 - val_loss: 4.8327 - val_accuracy: 0.6209\n",
            "Epoch 56/100\n",
            "60/60 [==============================] - 5s 80ms/step - loss: 0.0755 - accuracy: 0.9893 - val_loss: 6.3000 - val_accuracy: 0.6445\n",
            "Epoch 57/100\n",
            "60/60 [==============================] - 5s 80ms/step - loss: 0.0526 - accuracy: 0.9914 - val_loss: 6.1379 - val_accuracy: 0.6714\n",
            "Epoch 58/100\n",
            "60/60 [==============================] - 5s 80ms/step - loss: 0.0531 - accuracy: 0.9887 - val_loss: 10.2430 - val_accuracy: 0.6288\n",
            "Epoch 59/100\n",
            "60/60 [==============================] - 5s 81ms/step - loss: 0.0287 - accuracy: 0.9929 - val_loss: 8.6511 - val_accuracy: 0.6288\n",
            "Epoch 60/100\n",
            "60/60 [==============================] - 5s 80ms/step - loss: 0.0703 - accuracy: 0.9896 - val_loss: 7.8206 - val_accuracy: 0.6603\n",
            "Epoch 61/100\n",
            "60/60 [==============================] - 5s 80ms/step - loss: 0.2906 - accuracy: 0.9775 - val_loss: 8.3120 - val_accuracy: 0.6951\n",
            "Epoch 62/100\n",
            "60/60 [==============================] - 5s 81ms/step - loss: 0.0790 - accuracy: 0.9914 - val_loss: 9.3364 - val_accuracy: 0.6335\n",
            "Epoch 63/100\n",
            "60/60 [==============================] - 5s 81ms/step - loss: 0.0972 - accuracy: 0.9929 - val_loss: 12.1485 - val_accuracy: 0.6209\n",
            "Epoch 64/100\n",
            "60/60 [==============================] - 5s 80ms/step - loss: 0.0933 - accuracy: 0.9905 - val_loss: 6.8877 - val_accuracy: 0.6825\n",
            "Epoch 65/100\n",
            "60/60 [==============================] - 5s 80ms/step - loss: 0.1862 - accuracy: 0.9776 - val_loss: 7.9761 - val_accuracy: 0.6572\n",
            "Epoch 66/100\n",
            "60/60 [==============================] - 5s 80ms/step - loss: 0.1186 - accuracy: 0.9845 - val_loss: 7.7145 - val_accuracy: 0.6224\n",
            "Epoch 67/100\n",
            "60/60 [==============================] - 5s 80ms/step - loss: 0.0917 - accuracy: 0.9837 - val_loss: 5.3940 - val_accuracy: 0.6430\n",
            "Epoch 68/100\n",
            "60/60 [==============================] - 5s 80ms/step - loss: 0.1298 - accuracy: 0.9842 - val_loss: 5.0250 - val_accuracy: 0.6619\n",
            "Epoch 69/100\n",
            "60/60 [==============================] - 5s 80ms/step - loss: 0.1278 - accuracy: 0.9822 - val_loss: 9.4236 - val_accuracy: 0.6130\n",
            "Epoch 70/100\n",
            "60/60 [==============================] - 5s 80ms/step - loss: 0.0720 - accuracy: 0.9893 - val_loss: 7.2264 - val_accuracy: 0.6461\n",
            "Epoch 71/100\n",
            "60/60 [==============================] - 5s 80ms/step - loss: 0.1352 - accuracy: 0.9860 - val_loss: 8.2616 - val_accuracy: 0.6603\n",
            "Epoch 72/100\n",
            "60/60 [==============================] - 5s 81ms/step - loss: 0.0702 - accuracy: 0.9890 - val_loss: 21.2882 - val_accuracy: 0.5355\n",
            "Epoch 73/100\n",
            "60/60 [==============================] - 5s 80ms/step - loss: 0.3533 - accuracy: 0.9748 - val_loss: 7.2584 - val_accuracy: 0.6445\n",
            "Epoch 74/100\n",
            "60/60 [==============================] - 5s 80ms/step - loss: 0.0511 - accuracy: 0.9914 - val_loss: 5.8824 - val_accuracy: 0.6540\n",
            "Epoch 75/100\n",
            "60/60 [==============================] - 5s 80ms/step - loss: 0.0878 - accuracy: 0.9855 - val_loss: 12.1703 - val_accuracy: 0.6540\n",
            "Epoch 76/100\n",
            "60/60 [==============================] - 5s 81ms/step - loss: 0.1603 - accuracy: 0.9871 - val_loss: 7.4136 - val_accuracy: 0.6319\n",
            "Epoch 77/100\n",
            "60/60 [==============================] - 5s 80ms/step - loss: 0.2208 - accuracy: 0.9897 - val_loss: 9.1570 - val_accuracy: 0.6414\n",
            "Epoch 78/100\n",
            "60/60 [==============================] - 5s 80ms/step - loss: 0.0818 - accuracy: 0.9892 - val_loss: 5.0073 - val_accuracy: 0.6619\n",
            "Epoch 79/100\n",
            "60/60 [==============================] - 5s 80ms/step - loss: 0.0566 - accuracy: 0.9907 - val_loss: 5.1970 - val_accuracy: 0.6651\n",
            "Epoch 80/100\n",
            "60/60 [==============================] - 5s 81ms/step - loss: 0.0832 - accuracy: 0.9902 - val_loss: 6.3585 - val_accuracy: 0.6335\n",
            "Epoch 81/100\n",
            "60/60 [==============================] - 5s 80ms/step - loss: 0.0488 - accuracy: 0.9869 - val_loss: 7.4602 - val_accuracy: 0.6793\n",
            "Epoch 82/100\n",
            "60/60 [==============================] - 5s 81ms/step - loss: 0.0810 - accuracy: 0.9874 - val_loss: 9.5285 - val_accuracy: 0.6730\n",
            "Epoch 83/100\n",
            "60/60 [==============================] - 5s 80ms/step - loss: 0.1616 - accuracy: 0.9895 - val_loss: 9.9274 - val_accuracy: 0.6398\n",
            "Epoch 84/100\n",
            "60/60 [==============================] - 5s 80ms/step - loss: 0.0820 - accuracy: 0.9902 - val_loss: 14.1193 - val_accuracy: 0.6825\n",
            "Epoch 85/100\n",
            "60/60 [==============================] - 5s 80ms/step - loss: 0.6491 - accuracy: 0.9765 - val_loss: 11.9268 - val_accuracy: 0.6335\n",
            "Epoch 86/100\n",
            "60/60 [==============================] - 5s 80ms/step - loss: 0.1758 - accuracy: 0.9829 - val_loss: 6.4865 - val_accuracy: 0.6667\n",
            "Epoch 87/100\n",
            "60/60 [==============================] - 5s 80ms/step - loss: 0.0037 - accuracy: 0.9993 - val_loss: 14.3639 - val_accuracy: 0.6572\n",
            "Epoch 88/100\n",
            "60/60 [==============================] - 5s 80ms/step - loss: 0.1788 - accuracy: 0.9742 - val_loss: 13.7506 - val_accuracy: 0.6730\n",
            "Epoch 89/100\n",
            "60/60 [==============================] - 5s 80ms/step - loss: 0.0821 - accuracy: 0.9917 - val_loss: 8.1604 - val_accuracy: 0.6430\n",
            "Epoch 90/100\n",
            "60/60 [==============================] - 5s 80ms/step - loss: 0.0761 - accuracy: 0.9895 - val_loss: 10.1949 - val_accuracy: 0.6904\n",
            "Epoch 91/100\n",
            "60/60 [==============================] - 5s 80ms/step - loss: 0.0902 - accuracy: 0.9936 - val_loss: 15.4331 - val_accuracy: 0.6493\n",
            "Epoch 92/100\n",
            "60/60 [==============================] - 5s 80ms/step - loss: 0.1124 - accuracy: 0.9897 - val_loss: 5.6381 - val_accuracy: 0.6667\n",
            "Epoch 93/100\n",
            "60/60 [==============================] - 5s 80ms/step - loss: 0.0218 - accuracy: 0.9947 - val_loss: 25.8396 - val_accuracy: 0.6761\n",
            "Epoch 94/100\n",
            "60/60 [==============================] - 5s 80ms/step - loss: 0.7194 - accuracy: 0.9725 - val_loss: 9.4632 - val_accuracy: 0.6825\n",
            "Epoch 95/100\n",
            "60/60 [==============================] - 5s 80ms/step - loss: 0.0551 - accuracy: 0.9958 - val_loss: 16.4994 - val_accuracy: 0.6635\n",
            "Epoch 96/100\n",
            "60/60 [==============================] - 5s 80ms/step - loss: 0.0673 - accuracy: 0.9938 - val_loss: 17.6409 - val_accuracy: 0.6430\n",
            "Epoch 97/100\n",
            "60/60 [==============================] - 5s 80ms/step - loss: 0.0836 - accuracy: 0.9894 - val_loss: 16.4891 - val_accuracy: 0.6382\n",
            "Epoch 98/100\n",
            "60/60 [==============================] - 5s 80ms/step - loss: 0.0741 - accuracy: 0.9917 - val_loss: 14.4471 - val_accuracy: 0.6319\n",
            "Epoch 99/100\n",
            "60/60 [==============================] - 5s 80ms/step - loss: 0.0747 - accuracy: 0.9915 - val_loss: 16.0725 - val_accuracy: 0.6351\n",
            "Epoch 100/100\n",
            "60/60 [==============================] - 5s 80ms/step - loss: 0.0742 - accuracy: 0.9877 - val_loss: 26.4146 - val_accuracy: 0.6272\n"
          ],
          "name": "stdout"
        }
      ]
    },
    {
      "cell_type": "code",
      "metadata": {
        "id": "N_W368_0hO4u"
      },
      "source": [
        "plt.plot(History.history['loss'])\n",
        "plt.plot(History.history['val_loss'])\n",
        "plt.title('Model Loss')\n",
        "plt.ylabel('Loss')\n",
        "plt.xlabel('Epochs')\n",
        "plt.legend(['train', 'test'])\n",
        "plt.show()"
      ],
      "execution_count": null,
      "outputs": []
    },
    {
      "cell_type": "code",
      "metadata": {
        "id": "CRPNd6lQhO4u"
      },
      "source": [
        "plt.plot(History.history['accuracy'])\n",
        "plt.plot(History.history['val_accuracy'])\n",
        "plt.title('Model Accuracy')\n",
        "plt.ylabel('Accuracy')\n",
        "plt.xlabel('Epochs')\n",
        "plt.legend(['train', 'test'])\n",
        "plt.show()"
      ],
      "execution_count": null,
      "outputs": []
    },
    {
      "cell_type": "code",
      "metadata": {
        "id": "ZIRU3z_GtNcm"
      },
      "source": [
        "model.predict()"
      ],
      "execution_count": null,
      "outputs": []
    }
  ]
}